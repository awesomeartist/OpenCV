{
 "cells": [
  {
   "cell_type": "markdown",
   "metadata": {},
   "source": [
    "### 简单图像读取显示"
   ]
  },
  {
   "cell_type": "code",
   "execution_count": 2,
   "metadata": {},
   "outputs": [
    {
     "name": "stdout",
     "output_type": "stream",
     "text": [
      "4.5.1\n",
      "(250, 250, 3)\n"
     ]
    },
    {
     "data": {
      "text/plain": [
       "-1"
      ]
     },
     "execution_count": 2,
     "metadata": {},
     "output_type": "execute_result"
    }
   ],
   "source": [
    "import cv2 as cv\n",
    "\n",
    "print(cv.getVersionString())\n",
    "\n",
    "img = cv.imread(\"opencv_logo.jpg\")\n",
    "\n",
    "print(img.shape)\n",
    "\n",
    "cv.imshow(\"OpenCV_logo\", img)\n",
    "cv.waitKey()"
   ]
  },
  {
   "cell_type": "markdown",
   "metadata": {},
   "source": [
    "### 图像通道采集"
   ]
  },
  {
   "cell_type": "code",
   "execution_count": 3,
   "metadata": {},
   "outputs": [
    {
     "data": {
      "text/plain": [
       "-1"
      ]
     },
     "execution_count": 3,
     "metadata": {},
     "output_type": "execute_result"
    }
   ],
   "source": [
    "import cv2 as cv\n",
    "\n",
    "img = cv.imread(\"opencv_logo.jpg\")\n",
    "\n",
    "cv.imshow(\"blue\", img[:,:,0])\n",
    "cv.imshow(\"greed\", img[:,:,1])\n",
    "cv.imshow(\"red\", img[:,:,2])\n",
    "\n",
    "gray = cv.cvtColor( img, cv.COLOR_BGR2GRAY)#转换成灰度图\n",
    "\n",
    "cv.imshow(\"gray\", gray)\n",
    "\n",
    "cv.waitKey()"
   ]
  },
  {
   "cell_type": "markdown",
   "metadata": {},
   "source": [
    "### 图像裁剪"
   ]
  },
  {
   "cell_type": "code",
   "execution_count": 6,
   "metadata": {},
   "outputs": [
    {
     "data": {
      "text/plain": [
       "-1"
      ]
     },
     "execution_count": 6,
     "metadata": {},
     "output_type": "execute_result"
    }
   ],
   "source": [
    "import cv2 as cv\n",
    "\n",
    "img = cv.imread(\"opencv_logo.jpg\")\n",
    "\n",
    "crop = img[20:100, 30:200]\n",
    "\n",
    "cv.imshow(\"crop\", crop)\n",
    "\n",
    "cv.waitKey()"
   ]
  },
  {
   "cell_type": "markdown",
   "metadata": {},
   "source": [
    "### 创建画布并绘制简单图形"
   ]
  },
  {
   "cell_type": "code",
   "execution_count": 9,
   "metadata": {},
   "outputs": [
    {
     "data": {
      "text/plain": [
       "-1"
      ]
     },
     "execution_count": 9,
     "metadata": {},
     "output_type": "execute_result"
    }
   ],
   "source": [
    "import cv2 as cv\n",
    "import numpy as np\n",
    "\n",
    "#生成图像h,w = (300, 500),3通道，数据类型位整型八位\n",
    "img = np.zeros([300, 500, 3], dtype=np.uint8)\n",
    "\n",
    "#绘制线条，参数分别为起始位置(w,h)、终点位置、颜色、线宽\n",
    "cv.line(img, (100,250), (220,280),(222,0,0), 2)\n",
    "\n",
    "#绘制矩形\n",
    "cv.rectangle(img, (50,50),(120,150),(0,234,0),2)\n",
    "\n",
    "#绘制圆\n",
    "cv.circle(img, (400, 150), 20, (255, 0, 255), 1)\n",
    "\n",
    "#绘制文本\n",
    "cv.putText(img, \"hello\", (150,100),0,1,(255,244,234),2,1)\n",
    "\n",
    "cv.imshow(\"img\", img)\n",
    "\n",
    "cv.waitKey()"
   ]
  },
  {
   "cell_type": "markdown",
   "metadata": {},
   "source": [
    "### 滤波器"
   ]
  },
  {
   "cell_type": "code",
   "execution_count": 6,
   "metadata": {},
   "outputs": [
    {
     "data": {
      "text/plain": [
       "-1"
      ]
     },
     "execution_count": 6,
     "metadata": {},
     "output_type": "execute_result"
    }
   ],
   "source": [
    "import cv2 as cv \n",
    "\n",
    "img = cv.imread(\"plane.jpg\")\n",
    "\n",
    "gauss = cv.GaussianBlur(img,(5,5),0)\n",
    "median = cv.medianBlur(img,5)\n",
    "\n",
    "cv.imshow(\"img\",img)\n",
    "cv.imshow(\"gauss\", gauss)\n",
    "cv.imshow(\"median\", median)\n",
    "\n",
    "cv.waitKey()"
   ]
  },
  {
   "cell_type": "markdown",
   "metadata": {},
   "source": [
    "### 特征提取，转角"
   ]
  },
  {
   "cell_type": "code",
   "execution_count": 10,
   "metadata": {},
   "outputs": [
    {
     "data": {
      "text/plain": [
       "-1"
      ]
     },
     "execution_count": 10,
     "metadata": {},
     "output_type": "execute_result"
    }
   ],
   "source": [
    "import cv2 as cv\n",
    "\n",
    "img = cv.imread(\"opencv_logo.jpg\")\n",
    "\n",
    "gray = cv.cvtColor(img, cv.COLOR_BGR2GRAY)\n",
    "\n",
    "corners = cv.goodFeaturesToTrack(gray, 500,0.1, 10)\n",
    "\n",
    "for corner in corners:\n",
    "    x, y = corner.ravel()\n",
    "    cv.circle(img, (int(x), int(y)), 3, (255, 0, 255), -1)\n",
    "\n",
    "cv.imshow(mat=img,winname=\"corners\",)\n",
    "cv.waitKey()"
   ]
  },
  {
   "cell_type": "markdown",
   "metadata": {},
   "source": [
    "### 模板匹配"
   ]
  },
  {
   "cell_type": "code",
   "execution_count": 7,
   "metadata": {},
   "outputs": [
    {
     "data": {
      "text/plain": [
       "-1"
      ]
     },
     "execution_count": 7,
     "metadata": {},
     "output_type": "execute_result"
    }
   ],
   "source": [
    "import cv2 as cv\n",
    "import numpy as np\n",
    "\n",
    "img = cv.imread(\"poker.jpg\")\n",
    "gray = cv.cvtColor(img, cv.COLOR_BGR2GRAY)\n",
    "\n",
    "template = gray[75:105, 235:265]\n",
    "\n",
    "match = cv.matchTemplate(gray,template, cv.TM_CCOEFF_NORMED)\n",
    "locations = np.where(match>=0.9)\n",
    "\n",
    "w, h = template.shape[0:2]\n",
    "for p in zip(*locations[::-1]):\n",
    "    x1, y1 = p[0],p[1]\n",
    "    x2, y2 = x1+w, y1+h\n",
    "    cv.rectangle(img,(x1, y1), (x2, y2), (0, 255,0), 2)\n",
    "\n",
    "cv.imshow(\"img\", img)\n",
    "cv.waitKey( )\n",
    "\n"
   ]
  },
  {
   "cell_type": "markdown",
   "metadata": {},
   "source": [
    "### 边缘检测"
   ]
  },
  {
   "cell_type": "code",
   "execution_count": 8,
   "metadata": {},
   "outputs": [
    {
     "data": {
      "text/plain": [
       "-1"
      ]
     },
     "execution_count": 8,
     "metadata": {},
     "output_type": "execute_result"
    }
   ],
   "source": [
    "import cv2 as cv\n",
    "\n",
    "gray = cv.imread(\"opencv_logo.jpg\", cv.IMREAD_GRAYSCALE)\n",
    "\n",
    "laplacian = cv.Laplacian(gray, cv.CV_64F)\n",
    "canny = cv.Canny(gray, 100,200)\n",
    "\n",
    "\n",
    "cv.imshow(\"img\", gray)\n",
    "cv.imshow(\"laplacian\", laplacian)\n",
    "cv.imshow(\"canny\", canny)\n",
    "cv.waitKey()"
   ]
  },
  {
   "cell_type": "markdown",
   "metadata": {},
   "source": [
    "### 阈值算法"
   ]
  },
  {
   "cell_type": "code",
   "execution_count": 13,
   "metadata": {},
   "outputs": [
    {
     "data": {
      "text/plain": [
       "-1"
      ]
     },
     "execution_count": 13,
     "metadata": {},
     "output_type": "execute_result"
    }
   ],
   "source": [
    "import cv2 as cv\n",
    "\n",
    "gray = cv.imread(\"bookpage.jpg\", cv.IMREAD_GRAYSCALE)\n",
    "ret, binary = cv.threshold(gray, 10,255, cv.THRESH_BINARY)\n",
    "binary_adaptive = cv.adaptiveThreshold(gray, 255, cv.ADAPTIVE_THRESH_GAUSSIAN_C, cv.THRESH_BINARY,115,1)\n",
    "ret, binary_otsu = cv.threshold(gray,0,255,cv.THRESH_BINARY + cv.THRESH_OTSU)\n",
    "\n",
    "\n",
    "cv.imshow(\"img\", img)\n",
    "cv.imshow(\"binary\", binary)\n",
    "cv.imshow(\"adaptive\", binary_adaptive)\n",
    "cv.imshow(\"binary_otsu\", binary_otsu)\n",
    "cv.waitKey()"
   ]
  },
  {
   "cell_type": "markdown",
   "metadata": {},
   "source": [
    "### 图像形态学处理"
   ]
  },
  {
   "cell_type": "code",
   "execution_count": 14,
   "metadata": {},
   "outputs": [
    {
     "data": {
      "text/plain": [
       "-1"
      ]
     },
     "execution_count": 14,
     "metadata": {},
     "output_type": "execute_result"
    }
   ],
   "source": [
    "import cv2 as cv\n",
    "\n",
    "gray = cv.imread(\"opencv_logo.jpg\", cv.IMREAD_GRAYSCALE)\n",
    "\n",
    "_, binary = cv.threshold(gray,200,255,cv.THRESH_BINARY_INV)\n",
    "kernel = np.ones((5,5), np.uint8)\n",
    "\n",
    "erosion =  cv.erode(binary, kernel)\n",
    "dilation = cv.dilate(binary, kernel)\n",
    "\n",
    "cv.imshow(\"binary\", binary)\n",
    "cv.imshow(\"erosion\", erosion)\n",
    "cv.imshow(\"dilation\", dilation)\n",
    "\n",
    "cv.waitKey()"
   ]
  },
  {
   "cell_type": "markdown",
   "metadata": {},
   "source": [
    "### 摄像头调用与视频播放"
   ]
  },
  {
   "cell_type": "code",
   "execution_count": 1,
   "metadata": {},
   "outputs": [],
   "source": [
    "\n",
    "\n",
    "import cv2 as cv\n",
    "capture = cv.VideoCapture(0)\n",
    "\n",
    "while True:\n",
    "    ret, frame = capture.read()\n",
    "    cv.imshow(\"camera\", frame)\n",
    "    key = cv.waitKey(1)\n",
    "    if key != -1:\n",
    "        break\n",
    "\n",
    "capture.release()\n",
    "cv.destroyAllWindows()\n",
    "\n",
    "if False:\n",
    "    capture = cv.VideoCapture(\"kitten.mp4\")\n",
    "\n",
    "    while True:\n",
    "        isTrue, frame = capture.read()\n",
    "\n",
    "        if isTrue:\n",
    "            cv.imshow(\"Videos\", frame)\n",
    "    \n",
    "        key = cv.waitKey(40)\n",
    "\n",
    "        if (key == ord('q')):\n",
    "            break\n",
    "\n",
    "    capture.release()\n",
    "    cv.destroyAllWindows()\n"
   ]
  }
 ],
 "metadata": {
  "interpreter": {
   "hash": "84ab42efa1d036f69b50c59e6e0ebfcc36e0396c8883b0a9f10281ddbb7cc249"
  },
  "kernelspec": {
   "display_name": "Python 3.8.8 ('yolov5')",
   "language": "python",
   "name": "python3"
  },
  "language_info": {
   "codemirror_mode": {
    "name": "ipython",
    "version": 3
   },
   "file_extension": ".py",
   "mimetype": "text/x-python",
   "name": "python",
   "nbconvert_exporter": "python",
   "pygments_lexer": "ipython3",
   "version": "3.8.8"
  },
  "orig_nbformat": 4
 },
 "nbformat": 4,
 "nbformat_minor": 2
}
